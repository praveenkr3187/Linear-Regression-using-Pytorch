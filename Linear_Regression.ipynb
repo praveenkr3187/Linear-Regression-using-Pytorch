{
  "nbformat": 4,
  "nbformat_minor": 0,
  "metadata": {
    "colab": {
      "name": "Linear Regression.ipynb",
      "provenance": [],
      "collapsed_sections": []
    },
    "kernelspec": {
      "name": "python3",
      "display_name": "Python 3"
    }
  },
  "cells": [
    {
      "cell_type": "code",
      "metadata": {
        "id": "gfmAct-W8Nag",
        "colab_type": "code",
        "colab": {}
      },
      "source": [
        "import torch\n",
        "import numpy as np\n",
        "import matplotlib.pyplot as plt\n",
        "import torch.nn as nn"
      ],
      "execution_count": 0,
      "outputs": []
    },
    {
      "cell_type": "code",
      "metadata": {
        "id": "0BBjCBmE8n5W",
        "colab_type": "code",
        "colab": {}
      },
      "source": [
        "x = torch.linspace(1,50,50).reshape(-1,1)"
      ],
      "execution_count": 0,
      "outputs": []
    },
    {
      "cell_type": "code",
      "metadata": {
        "id": "29Z79N9c8wlv",
        "colab_type": "code",
        "colab": {}
      },
      "source": [
        "error = torch.randint(-5,5,(50,1),dtype=torch.float)"
      ],
      "execution_count": 0,
      "outputs": []
    },
    {
      "cell_type": "code",
      "metadata": {
        "id": "udMQO4YlBLia",
        "colab_type": "code",
        "colab": {}
      },
      "source": [
        "y = 2 * x + 1 + error"
      ],
      "execution_count": 0,
      "outputs": []
    },
    {
      "cell_type": "code",
      "metadata": {
        "id": "vCK7Q_KQBYjc",
        "colab_type": "code",
        "outputId": "5df786b1-d72c-42bd-d41b-5a911690fa35",
        "colab": {
          "base_uri": "https://localhost:8080/",
          "height": 282
        }
      },
      "source": [
        "plt.scatter(x.numpy(),y.numpy())"
      ],
      "execution_count": 5,
      "outputs": [
        {
          "output_type": "execute_result",
          "data": {
            "text/plain": [
              "<matplotlib.collections.PathCollection at 0x7fbf6e375b70>"
            ]
          },
          "metadata": {
            "tags": []
          },
          "execution_count": 5
        },
        {
          "output_type": "display_data",
          "data": {
            "image/png": "[encoded data removed]",
            "text/plain": [
              "<Figure size 432x288 with 1 Axes>"
            ]
          },
          "metadata": {
            "tags": []
          }
        }
      ]
    },
    {
      "cell_type": "code",
      "metadata": {
        "id": "SJ9F-wTqEC4e",
        "colab_type": "code",
        "colab": {}
      },
      "source": [
        "class Model(nn.Module):\n",
        "\n",
        "  def __init__(self,in_features,out_features):\n",
        "    super().__init__()\n",
        "    self.linear = nn.Linear(in_features,out_features)\n",
        "\n",
        "  def forward(self, x):\n",
        "     y_pred = self.linear(x)\n",
        "     return y_pred"
      ],
      "execution_count": 0,
      "outputs": []
    },
    {
      "cell_type": "code",
      "metadata": {
        "id": "mCBhkuYPRYOA",
        "colab_type": "code",
        "colab": {}
      },
      "source": [
        "model = Model(1,1)"
      ],
      "execution_count": 0,
      "outputs": []
    },
    {
      "cell_type": "code",
      "metadata": {
        "id": "VJi0Gaq0S0Vu",
        "colab_type": "code",
        "colab": {
          "base_uri": "https://localhost:8080/",
          "height": 85
        },
        "outputId": "baefc82b-3cf1-4d77-c2f8-3b4f5fbaaca1"
      },
      "source": [
        "for name,params in model.named_parameters():\n",
        "  print(name,'\\t',params)"
      ],
      "execution_count": 8,
      "outputs": [
        {
          "output_type": "stream",
          "text": [
            "linear.weight \t Parameter containing:\n",
            "tensor([[0.9685]], requires_grad=True)\n",
            "linear.bias \t Parameter containing:\n",
            "tensor([0.4459], requires_grad=True)\n"
          ],
          "name": "stdout"
        }
      ]
    },
    {
      "cell_type": "code",
      "metadata": {
        "id": "24REUaQtTMjK",
        "colab_type": "code",
        "colab": {}
      },
      "source": [
        "criterion = nn.MSELoss()"
      ],
      "execution_count": 0,
      "outputs": []
    },
    {
      "cell_type": "code",
      "metadata": {
        "id": "lFH7Or7OWZ0p",
        "colab_type": "code",
        "colab": {}
      },
      "source": [
        "optimizer = torch.optim.SGD(model.parameters(), lr=0.001)"
      ],
      "execution_count": 0,
      "outputs": []
    },
    {
      "cell_type": "code",
      "metadata": {
        "id": "Ywmdz-ryYh02",
        "colab_type": "code",
        "colab": {
          "base_uri": "https://localhost:8080/",
          "height": 357
        },
        "outputId": "f93771c7-25e9-4fb1-d550-f2be15ed3d91"
      },
      "source": [
        "epochs = 20\n",
        "losses = []\n",
        "\n",
        "for i in range(epochs):\n",
        "  y_pred = model.forward(x)\n",
        "  loss = criterion(y_pred,y)\n",
        "  losses.append(loss)\n",
        "  print(f'epoch {i+1} loss: {loss.item()} weight: {model.linear.weight.item()} bias: {model.linear.bias.item()}')\n",
        "  optimizer.zero_grad()\n",
        "  loss.backward()\n",
        "  optimizer.step()"
      ],
      "execution_count": 11,
      "outputs": [
        {
          "output_type": "stream",
          "text": [
            "epoch 1 loss: 992.3822631835938 weight: 0.968518853187561 bias: 0.44589996337890625\n",
            "epoch 2 loss: 515.878173828125 weight: 2.807711124420166 bias: 0.5008537173271179\n",
            "epoch 3 loss: 269.8761291503906 weight: 1.4862074851989746 bias: 0.4618987441062927\n",
            "epoch 4 loss: 142.87403869628906 weight: 2.4357125759124756 bias: 0.49041837453842163\n",
            "epoch 5 loss: 77.30730438232422 weight: 1.7534626722335815 bias: 0.47045621275901794\n",
            "epoch 6 loss: 43.45747375488281 weight: 2.2436540126800537 bias: 0.48532870411872864\n",
            "epoch 7 loss: 25.98194694519043 weight: 1.8914283514022827 bias: 0.47517168521881104\n",
            "epoch 8 loss: 16.95994758605957 weight: 2.1444921493530273 bias: 0.48299849033355713\n",
            "epoch 9 loss: 12.302146911621094 weight: 1.9626461267471313 bias: 0.4779033958911896\n",
            "epoch 10 loss: 9.897449493408203 weight: 2.093289613723755 bias: 0.48209264874458313\n",
            "epoch 11 loss: 8.655938148498535 weight: 1.9994045495986938 bias: 0.4796106815338135\n",
            "epoch 12 loss: 8.014934539794922 weight: 2.0668466091156006 bias: 0.48192182183265686\n",
            "epoch 13 loss: 7.683973789215088 weight: 2.0183730125427246 bias: 0.48078879714012146\n",
            "epoch 14 loss: 7.513068675994873 weight: 2.0531864166259766 bias: 0.4821301996707916\n",
            "epoch 15 loss: 7.42479133605957 weight: 2.0281565189361572 bias: 0.48169341683387756\n",
            "epoch 16 loss: 7.379161357879639 weight: 2.0461251735687256 bias: 0.4825340509414673\n",
            "epoch 17 loss: 7.355562686920166 weight: 2.0331990718841553 bias: 0.48245659470558167\n",
            "epoch 18 loss: 7.343339443206787 weight: 2.042470932006836 bias: 0.4830385148525238\n",
            "epoch 19 loss: 7.336981296539307 weight: 2.0357933044433594 bias: 0.48314642906188965\n",
            "epoch 20 loss: 7.333651065826416 weight: 2.0405757427215576 bias: 0.483594685792923\n"
          ],
          "name": "stdout"
        }
      ]
    },
    {
      "cell_type": "code",
      "metadata": {
        "id": "BsoGg0EOo6Tv",
        "colab_type": "code",
        "colab": {}
      },
      "source": [
        "xtest = torch.linspace(1.0,50.0,50)\n",
        "weight = model.linear.weight.item()\n",
        "bias = model.linear.bias.item()\n",
        "predicted_y = weight * xtest + bias"
      ],
      "execution_count": 0,
      "outputs": []
    },
    {
      "cell_type": "code",
      "metadata": {
        "id": "vD-xFZJks9gk",
        "colab_type": "code",
        "colab": {
          "base_uri": "https://localhost:8080/",
          "height": 282
        },
        "outputId": "b5d73fe2-db1b-44d6-85a0-89cd795700c9"
      },
      "source": [
        "plt.scatter(x.numpy(),y.numpy())\n",
        "plt.plot(xtest.numpy(),predicted_y.numpy(),'r')"
      ],
      "execution_count": 13,
      "outputs": [
        {
          "output_type": "execute_result",
          "data": {
            "text/plain": [
              "[<matplotlib.lines.Line2D at 0x7fbf6b6990f0>]"
            ]
          },
          "metadata": {
            "tags": []
          },
          "execution_count": 13
        },
        {
          "output_type": "display_data",
          "data": {
            "image/png": "[encoded data removed]",
            "text/plain": [
              "<Figure size 432x288 with 1 Axes>"
            ]
          },
          "metadata": {
            "tags": []
          }
        }
      ]
    }
  ]
}